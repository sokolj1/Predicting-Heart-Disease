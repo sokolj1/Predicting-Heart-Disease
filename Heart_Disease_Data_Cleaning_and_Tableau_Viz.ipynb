{
 "cells": [
  {
   "cell_type": "markdown",
   "metadata": {},
   "source": [
    "#### Author: John Sokol\n",
    "#### Data Analysis and Operations Research\n",
    "#### Stockton University\n",
    "#### 7 April 2018\n",
    "\n",
    "## Cleaning and Preparing CDC Heart Disease Data for Tableau "
   ]
  },
  {
   "cell_type": "code",
   "execution_count": 4,
   "metadata": {
    "collapsed": true
   },
   "outputs": [],
   "source": [
    "# import pandas library\n",
    "import pandas as pd\n",
    "\n",
    "# obtain dataset from CDC database; csv file is 160MB so may take up to 1 minute for this block to run \n",
    "cdc_url = 'https://chronicdata.cdc.gov/api/views/g4ie-h725/rows.csv?accessType=DOWNLOAD&api_foundry=true'\n",
    "cdc_data = pd.read_csv(cdc_url, low_memory=False)"
   ]
  },
  {
   "cell_type": "markdown",
   "metadata": {},
   "source": [
    "Exploratory Data Analysis: "
   ]
  },
  {
   "cell_type": "code",
   "execution_count": 7,
   "metadata": {},
   "outputs": [
    {
     "data": {
      "text/plain": [
       "(523486, 34)"
      ]
     },
     "execution_count": 7,
     "metadata": {},
     "output_type": "execute_result"
    }
   ],
   "source": [
    "cdc_data.shape # 523,486 rows and 34 columns of data"
   ]
  },
  {
   "cell_type": "code",
   "execution_count": 6,
   "metadata": {},
   "outputs": [
    {
     "data": {
      "text/html": [
       "<div>\n",
       "<style scoped>\n",
       "    .dataframe tbody tr th:only-of-type {\n",
       "        vertical-align: middle;\n",
       "    }\n",
       "\n",
       "    .dataframe tbody tr th {\n",
       "        vertical-align: top;\n",
       "    }\n",
       "\n",
       "    .dataframe thead th {\n",
       "        text-align: right;\n",
       "    }\n",
       "</style>\n",
       "<table border=\"1\" class=\"dataframe\">\n",
       "  <thead>\n",
       "    <tr style=\"text-align: right;\">\n",
       "      <th></th>\n",
       "      <th>YearStart</th>\n",
       "      <th>YearEnd</th>\n",
       "      <th>LocationAbbr</th>\n",
       "      <th>LocationDesc</th>\n",
       "      <th>DataSource</th>\n",
       "      <th>Topic</th>\n",
       "      <th>Question</th>\n",
       "      <th>Response</th>\n",
       "      <th>DataValueUnit</th>\n",
       "      <th>DataValueType</th>\n",
       "      <th>...</th>\n",
       "      <th>LocationID</th>\n",
       "      <th>TopicID</th>\n",
       "      <th>QuestionID</th>\n",
       "      <th>DataValueTypeID</th>\n",
       "      <th>StratificationCategoryID1</th>\n",
       "      <th>StratificationID1</th>\n",
       "      <th>StratificationCategoryID2</th>\n",
       "      <th>StratificationID2</th>\n",
       "      <th>StratificationCategoryID3</th>\n",
       "      <th>StratificationID3</th>\n",
       "    </tr>\n",
       "  </thead>\n",
       "  <tbody>\n",
       "    <tr>\n",
       "      <th>0</th>\n",
       "      <td>2016</td>\n",
       "      <td>2016</td>\n",
       "      <td>US</td>\n",
       "      <td>United States</td>\n",
       "      <td>BRFSS</td>\n",
       "      <td>Alcohol</td>\n",
       "      <td>Binge drinking prevalence among adults aged &gt;=...</td>\n",
       "      <td>NaN</td>\n",
       "      <td>%</td>\n",
       "      <td>Crude Prevalence</td>\n",
       "      <td>...</td>\n",
       "      <td>59</td>\n",
       "      <td>ALC</td>\n",
       "      <td>ALC2_2</td>\n",
       "      <td>CrdPrev</td>\n",
       "      <td>OVERALL</td>\n",
       "      <td>OVR</td>\n",
       "      <td>NaN</td>\n",
       "      <td>NaN</td>\n",
       "      <td>NaN</td>\n",
       "      <td>NaN</td>\n",
       "    </tr>\n",
       "    <tr>\n",
       "      <th>1</th>\n",
       "      <td>2016</td>\n",
       "      <td>2016</td>\n",
       "      <td>AL</td>\n",
       "      <td>Alabama</td>\n",
       "      <td>BRFSS</td>\n",
       "      <td>Alcohol</td>\n",
       "      <td>Binge drinking prevalence among adults aged &gt;=...</td>\n",
       "      <td>NaN</td>\n",
       "      <td>%</td>\n",
       "      <td>Crude Prevalence</td>\n",
       "      <td>...</td>\n",
       "      <td>1</td>\n",
       "      <td>ALC</td>\n",
       "      <td>ALC2_2</td>\n",
       "      <td>CrdPrev</td>\n",
       "      <td>OVERALL</td>\n",
       "      <td>OVR</td>\n",
       "      <td>NaN</td>\n",
       "      <td>NaN</td>\n",
       "      <td>NaN</td>\n",
       "      <td>NaN</td>\n",
       "    </tr>\n",
       "    <tr>\n",
       "      <th>2</th>\n",
       "      <td>2016</td>\n",
       "      <td>2016</td>\n",
       "      <td>AK</td>\n",
       "      <td>Alaska</td>\n",
       "      <td>BRFSS</td>\n",
       "      <td>Alcohol</td>\n",
       "      <td>Binge drinking prevalence among adults aged &gt;=...</td>\n",
       "      <td>NaN</td>\n",
       "      <td>%</td>\n",
       "      <td>Crude Prevalence</td>\n",
       "      <td>...</td>\n",
       "      <td>2</td>\n",
       "      <td>ALC</td>\n",
       "      <td>ALC2_2</td>\n",
       "      <td>CrdPrev</td>\n",
       "      <td>OVERALL</td>\n",
       "      <td>OVR</td>\n",
       "      <td>NaN</td>\n",
       "      <td>NaN</td>\n",
       "      <td>NaN</td>\n",
       "      <td>NaN</td>\n",
       "    </tr>\n",
       "    <tr>\n",
       "      <th>3</th>\n",
       "      <td>2016</td>\n",
       "      <td>2016</td>\n",
       "      <td>AZ</td>\n",
       "      <td>Arizona</td>\n",
       "      <td>BRFSS</td>\n",
       "      <td>Alcohol</td>\n",
       "      <td>Binge drinking prevalence among adults aged &gt;=...</td>\n",
       "      <td>NaN</td>\n",
       "      <td>%</td>\n",
       "      <td>Crude Prevalence</td>\n",
       "      <td>...</td>\n",
       "      <td>4</td>\n",
       "      <td>ALC</td>\n",
       "      <td>ALC2_2</td>\n",
       "      <td>CrdPrev</td>\n",
       "      <td>OVERALL</td>\n",
       "      <td>OVR</td>\n",
       "      <td>NaN</td>\n",
       "      <td>NaN</td>\n",
       "      <td>NaN</td>\n",
       "      <td>NaN</td>\n",
       "    </tr>\n",
       "    <tr>\n",
       "      <th>4</th>\n",
       "      <td>2016</td>\n",
       "      <td>2016</td>\n",
       "      <td>AR</td>\n",
       "      <td>Arkansas</td>\n",
       "      <td>BRFSS</td>\n",
       "      <td>Alcohol</td>\n",
       "      <td>Binge drinking prevalence among adults aged &gt;=...</td>\n",
       "      <td>NaN</td>\n",
       "      <td>%</td>\n",
       "      <td>Crude Prevalence</td>\n",
       "      <td>...</td>\n",
       "      <td>5</td>\n",
       "      <td>ALC</td>\n",
       "      <td>ALC2_2</td>\n",
       "      <td>CrdPrev</td>\n",
       "      <td>OVERALL</td>\n",
       "      <td>OVR</td>\n",
       "      <td>NaN</td>\n",
       "      <td>NaN</td>\n",
       "      <td>NaN</td>\n",
       "      <td>NaN</td>\n",
       "    </tr>\n",
       "  </tbody>\n",
       "</table>\n",
       "<p>5 rows × 34 columns</p>\n",
       "</div>"
      ],
      "text/plain": [
       "   YearStart  YearEnd LocationAbbr   LocationDesc DataSource    Topic  \\\n",
       "0       2016     2016           US  United States      BRFSS  Alcohol   \n",
       "1       2016     2016           AL        Alabama      BRFSS  Alcohol   \n",
       "2       2016     2016           AK         Alaska      BRFSS  Alcohol   \n",
       "3       2016     2016           AZ        Arizona      BRFSS  Alcohol   \n",
       "4       2016     2016           AR       Arkansas      BRFSS  Alcohol   \n",
       "\n",
       "                                            Question Response DataValueUnit  \\\n",
       "0  Binge drinking prevalence among adults aged >=...      NaN             %   \n",
       "1  Binge drinking prevalence among adults aged >=...      NaN             %   \n",
       "2  Binge drinking prevalence among adults aged >=...      NaN             %   \n",
       "3  Binge drinking prevalence among adults aged >=...      NaN             %   \n",
       "4  Binge drinking prevalence among adults aged >=...      NaN             %   \n",
       "\n",
       "      DataValueType        ...        LocationID  TopicID QuestionID  \\\n",
       "0  Crude Prevalence        ...                59      ALC     ALC2_2   \n",
       "1  Crude Prevalence        ...                 1      ALC     ALC2_2   \n",
       "2  Crude Prevalence        ...                 2      ALC     ALC2_2   \n",
       "3  Crude Prevalence        ...                 4      ALC     ALC2_2   \n",
       "4  Crude Prevalence        ...                 5      ALC     ALC2_2   \n",
       "\n",
       "  DataValueTypeID  StratificationCategoryID1  StratificationID1  \\\n",
       "0         CrdPrev                    OVERALL                OVR   \n",
       "1         CrdPrev                    OVERALL                OVR   \n",
       "2         CrdPrev                    OVERALL                OVR   \n",
       "3         CrdPrev                    OVERALL                OVR   \n",
       "4         CrdPrev                    OVERALL                OVR   \n",
       "\n",
       "  StratificationCategoryID2 StratificationID2 StratificationCategoryID3  \\\n",
       "0                       NaN               NaN                       NaN   \n",
       "1                       NaN               NaN                       NaN   \n",
       "2                       NaN               NaN                       NaN   \n",
       "3                       NaN               NaN                       NaN   \n",
       "4                       NaN               NaN                       NaN   \n",
       "\n",
       "  StratificationID3  \n",
       "0               NaN  \n",
       "1               NaN  \n",
       "2               NaN  \n",
       "3               NaN  \n",
       "4               NaN  \n",
       "\n",
       "[5 rows x 34 columns]"
      ]
     },
     "execution_count": 6,
     "metadata": {},
     "output_type": "execute_result"
    }
   ],
   "source": [
    "cdc_data.head()"
   ]
  },
  {
   "cell_type": "code",
   "execution_count": 8,
   "metadata": {},
   "outputs": [
    {
     "name": "stdout",
     "output_type": "stream",
     "text": [
      "<class 'pandas.core.frame.DataFrame'>\n",
      "RangeIndex: 523486 entries, 0 to 523485\n",
      "Data columns (total 34 columns):\n",
      "YearStart                    523486 non-null int64\n",
      "YearEnd                      523486 non-null int64\n",
      "LocationAbbr                 523486 non-null object\n",
      "LocationDesc                 523486 non-null object\n",
      "DataSource                   523486 non-null object\n",
      "Topic                        523486 non-null object\n",
      "Question                     523486 non-null object\n",
      "Response                     79152 non-null object\n",
      "DataValueUnit                474116 non-null object\n",
      "DataValueType                523486 non-null object\n",
      "DataValue                    379870 non-null object\n",
      "DataValueAlt                 355728 non-null float64\n",
      "DataValueFootnoteSymbol      225733 non-null object\n",
      "DatavalueFootnote            225567 non-null object\n",
      "LowConfidenceLimit           312900 non-null float64\n",
      "HighConfidenceLimit          312900 non-null float64\n",
      "StratificationCategory1      523486 non-null object\n",
      "Stratification1              523486 non-null object\n",
      "StratificationCategory2      79152 non-null object\n",
      "Stratification2              79152 non-null object\n",
      "StratificationCategory3      79152 non-null object\n",
      "Stratification3              79152 non-null object\n",
      "GeoLocation                  519760 non-null object\n",
      "ResponseID                   79152 non-null object\n",
      "LocationID                   523486 non-null int64\n",
      "TopicID                      523486 non-null object\n",
      "QuestionID                   523486 non-null object\n",
      "DataValueTypeID              523486 non-null object\n",
      "StratificationCategoryID1    523486 non-null object\n",
      "StratificationID1            523486 non-null object\n",
      "StratificationCategoryID2    79153 non-null object\n",
      "StratificationID2            79153 non-null object\n",
      "StratificationCategoryID3    79152 non-null object\n",
      "StratificationID3            79152 non-null object\n",
      "dtypes: float64(3), int64(3), object(28)\n",
      "memory usage: 135.8+ MB\n"
     ]
    }
   ],
   "source": [
    "cdc_data.info()"
   ]
  },
  {
   "cell_type": "markdown",
   "metadata": {},
   "source": [
    "The .info( ) function is especially important; this method conveys the memory usage of the dataset. This dataset uses approximately 135.8 MB of memory. This high memory value may cause performance issues with further manipulation. However, we can change all the columns of type 'object' to type 'category' to reduce memory usage using the following command: "
   ]
  },
  {
   "cell_type": "code",
   "execution_count": 9,
   "metadata": {},
   "outputs": [
    {
     "name": "stderr",
     "output_type": "stream",
     "text": [
      "/anaconda3/lib/python3.6/site-packages/ipykernel_launcher.py:3: FutureWarning: '.reindex_axis' is deprecated and will be removed in a future version. Use '.reindex' instead.\n",
      "  This is separate from the ipykernel package so we can avoid doing imports until\n"
     ]
    }
   ],
   "source": [
    "cdc_data = pd.concat([cdc_data.select_dtypes([], ['object']),\n",
    "cdc_data.select_dtypes(['object']).apply(pd.Series.astype, dtype='category')], \n",
    "axis=1).reindex_axis(cdc_data.columns, axis=1)"
   ]
  },
  {
   "cell_type": "markdown",
   "metadata": {},
   "source": [
    "Now let's observe the memory usage of the modified dataset: "
   ]
  },
  {
   "cell_type": "code",
   "execution_count": 10,
   "metadata": {},
   "outputs": [
    {
     "name": "stdout",
     "output_type": "stream",
     "text": [
      "<class 'pandas.core.frame.DataFrame'>\n",
      "RangeIndex: 523486 entries, 0 to 523485\n",
      "Data columns (total 34 columns):\n",
      "YearStart                    523486 non-null int64\n",
      "YearEnd                      523486 non-null int64\n",
      "LocationAbbr                 523486 non-null category\n",
      "LocationDesc                 523486 non-null category\n",
      "DataSource                   523486 non-null category\n",
      "Topic                        523486 non-null category\n",
      "Question                     523486 non-null category\n",
      "Response                     79152 non-null category\n",
      "DataValueUnit                474116 non-null category\n",
      "DataValueType                523486 non-null category\n",
      "DataValue                    379870 non-null category\n",
      "DataValueAlt                 355728 non-null float64\n",
      "DataValueFootnoteSymbol      225733 non-null category\n",
      "DatavalueFootnote            225567 non-null category\n",
      "LowConfidenceLimit           312900 non-null float64\n",
      "HighConfidenceLimit          312900 non-null float64\n",
      "StratificationCategory1      523486 non-null category\n",
      "Stratification1              523486 non-null category\n",
      "StratificationCategory2      79152 non-null category\n",
      "Stratification2              79152 non-null category\n",
      "StratificationCategory3      79152 non-null category\n",
      "Stratification3              79152 non-null category\n",
      "GeoLocation                  519760 non-null category\n",
      "ResponseID                   79152 non-null category\n",
      "LocationID                   523486 non-null int64\n",
      "TopicID                      523486 non-null category\n",
      "QuestionID                   523486 non-null category\n",
      "DataValueTypeID              523486 non-null category\n",
      "StratificationCategoryID1    523486 non-null category\n",
      "StratificationID1            523486 non-null category\n",
      "StratificationCategoryID2    79153 non-null category\n",
      "StratificationID2            79153 non-null category\n",
      "StratificationCategoryID3    79152 non-null category\n",
      "StratificationID3            79152 non-null category\n",
      "dtypes: category(28), float64(3), int64(3)\n",
      "memory usage: 40.9 MB\n"
     ]
    }
   ],
   "source": [
    "cdc_data.info()"
   ]
  },
  {
   "cell_type": "markdown",
   "metadata": {},
   "source": [
    "The memory usage decreased by 95 MB. This should assuage future performance concerns.\n",
    "\n",
    "This dataset provides a great amount of infomation. However, this study only demands a few columns for data analysis of heart disease mortality. Important columns include YearStart, YearEnd, Question, DataValueUnit, DataValueType, DataValue, and Stratification1 (gender). So columns that are not needed can be dropped from the dataset. "
   ]
  },
  {
   "cell_type": "code",
   "execution_count": 16,
   "metadata": {},
   "outputs": [
    {
     "data": {
      "text/plain": [
       "(523486, 17)"
      ]
     },
     "execution_count": 16,
     "metadata": {},
     "output_type": "execute_result"
    }
   ],
   "source": [
    "cdc_data = cdc_data.drop(['DataValueFootnoteSymbol', 'DatavalueFootnote','GeoLocation',\n",
    "'ResponseID','LocationID','TopicID','QuestionID','DataValueTypeID','StratificationCategoryID2',\n",
    "'StratificationID2','StratificationCategoryID3','StratificationID3','StratificationCategoryID1',\n",
    "'StratificationID1','StratificationCategory1','StratificationCategory2','StratificationCategory3'], axis = 1)\n",
    "\n",
    "cdc_data.shape"
   ]
  },
  {
   "cell_type": "markdown",
   "metadata": {},
   "source": [
    "Half of the columns were determined to be unnecessary for this study, so they were dropped from the dataset. The next step is to filter the data by heart disease stratification/category:\n",
    "1. Mortality from diseases of the heart\n",
    "2. Mortality from coronary heart disease\n",
    "3. Mortality from heart failure\n",
    "4. Mortality from total cardiovascular diseases"
   ]
  },
  {
   "cell_type": "code",
   "execution_count": 17,
   "metadata": {},
   "outputs": [
    {
     "data": {
      "text/plain": [
       "(24540, 17)"
      ]
     },
     "execution_count": 17,
     "metadata": {},
     "output_type": "execute_result"
    }
   ],
   "source": [
    "us_diseases_MDH = cdc_data['Question'] == 'Mortality from diseases of the heart'\n",
    "us_diseases_MCHD = cdc_data['Question'] == 'Mortality from coronary heart disease'\n",
    "us_diseases_MHF = cdc_data['Question'] == 'Mortality from heart failure'\n",
    "us_diseases_MTCD = cdc_data['Question'] == 'Mortality from total cardiovascular diseases'\n",
    "\n",
    "us_MDH = cdc_data[us_diseases_MDH]\n",
    "us_MCHD = cdc_data[us_diseases_MCHD]\n",
    "us_MHF = cdc_data[us_diseases_MHF]\n",
    "us_MTCD = cdc_data[us_diseases_MTCD]\n",
    "\n",
    "us_diseases_heart = pd.concat([us_MDH,us_MCHD,us_MHF,us_MTCD])\n",
    "us_diseases_heart.shape"
   ]
  },
  {
   "cell_type": "markdown",
   "metadata": {},
   "source": [
    "The data must now be further filtered by gender, Data Value Type of 'Adge-Adjusted Rate', and for the year 2014."
   ]
  },
  {
   "cell_type": "code",
   "execution_count": 18,
   "metadata": {},
   "outputs": [
    {
     "data": {
      "text/html": [
       "<div>\n",
       "<style scoped>\n",
       "    .dataframe tbody tr th:only-of-type {\n",
       "        vertical-align: middle;\n",
       "    }\n",
       "\n",
       "    .dataframe tbody tr th {\n",
       "        vertical-align: top;\n",
       "    }\n",
       "\n",
       "    .dataframe thead th {\n",
       "        text-align: right;\n",
       "    }\n",
       "</style>\n",
       "<table border=\"1\" class=\"dataframe\">\n",
       "  <thead>\n",
       "    <tr style=\"text-align: right;\">\n",
       "      <th></th>\n",
       "      <th>YearStart</th>\n",
       "      <th>YearEnd</th>\n",
       "      <th>LocationAbbr</th>\n",
       "      <th>LocationDesc</th>\n",
       "      <th>DataSource</th>\n",
       "      <th>Topic</th>\n",
       "      <th>Question</th>\n",
       "      <th>Response</th>\n",
       "      <th>DataValueUnit</th>\n",
       "      <th>DataValueType</th>\n",
       "      <th>DataValue</th>\n",
       "      <th>DataValueAlt</th>\n",
       "      <th>LowConfidenceLimit</th>\n",
       "      <th>HighConfidenceLimit</th>\n",
       "      <th>Stratification1</th>\n",
       "      <th>Stratification2</th>\n",
       "      <th>Stratification3</th>\n",
       "    </tr>\n",
       "  </thead>\n",
       "  <tbody>\n",
       "    <tr>\n",
       "      <th>293181</th>\n",
       "      <td>2014</td>\n",
       "      <td>2014</td>\n",
       "      <td>AK</td>\n",
       "      <td>Alaska</td>\n",
       "      <td>NVSS</td>\n",
       "      <td>Cardiovascular Disease</td>\n",
       "      <td>Mortality from diseases of the heart</td>\n",
       "      <td></td>\n",
       "      <td>cases per 100,000</td>\n",
       "      <td>Age-adjusted Rate</td>\n",
       "      <td>109.0</td>\n",
       "      <td>109.0</td>\n",
       "      <td>96.0</td>\n",
       "      <td>121.9</td>\n",
       "      <td>Female</td>\n",
       "      <td></td>\n",
       "      <td></td>\n",
       "    </tr>\n",
       "    <tr>\n",
       "      <th>293189</th>\n",
       "      <td>2014</td>\n",
       "      <td>2014</td>\n",
       "      <td>AL</td>\n",
       "      <td>Alabama</td>\n",
       "      <td>NVSS</td>\n",
       "      <td>Cardiovascular Disease</td>\n",
       "      <td>Mortality from diseases of the heart</td>\n",
       "      <td></td>\n",
       "      <td>cases per 100,000</td>\n",
       "      <td>Age-adjusted Rate</td>\n",
       "      <td>182.5</td>\n",
       "      <td>182.5</td>\n",
       "      <td>177.8</td>\n",
       "      <td>187.2</td>\n",
       "      <td>Female</td>\n",
       "      <td></td>\n",
       "      <td></td>\n",
       "    </tr>\n",
       "    <tr>\n",
       "      <th>293197</th>\n",
       "      <td>2014</td>\n",
       "      <td>2014</td>\n",
       "      <td>AR</td>\n",
       "      <td>Arkansas</td>\n",
       "      <td>NVSS</td>\n",
       "      <td>Cardiovascular Disease</td>\n",
       "      <td>Mortality from diseases of the heart</td>\n",
       "      <td></td>\n",
       "      <td>cases per 100,000</td>\n",
       "      <td>Age-adjusted Rate</td>\n",
       "      <td>169.8</td>\n",
       "      <td>169.8</td>\n",
       "      <td>164.0</td>\n",
       "      <td>175.6</td>\n",
       "      <td>Female</td>\n",
       "      <td></td>\n",
       "      <td></td>\n",
       "    </tr>\n",
       "  </tbody>\n",
       "</table>\n",
       "</div>"
      ],
      "text/plain": [
       "        YearStart  YearEnd LocationAbbr LocationDesc DataSource  \\\n",
       "293181       2014     2014           AK       Alaska       NVSS   \n",
       "293189       2014     2014           AL      Alabama       NVSS   \n",
       "293197       2014     2014           AR     Arkansas       NVSS   \n",
       "\n",
       "                         Topic                              Question Response  \\\n",
       "293181  Cardiovascular Disease  Mortality from diseases of the heart            \n",
       "293189  Cardiovascular Disease  Mortality from diseases of the heart            \n",
       "293197  Cardiovascular Disease  Mortality from diseases of the heart            \n",
       "\n",
       "            DataValueUnit      DataValueType DataValue  DataValueAlt  \\\n",
       "293181  cases per 100,000  Age-adjusted Rate     109.0         109.0   \n",
       "293189  cases per 100,000  Age-adjusted Rate     182.5         182.5   \n",
       "293197  cases per 100,000  Age-adjusted Rate     169.8         169.8   \n",
       "\n",
       "        LowConfidenceLimit  HighConfidenceLimit Stratification1  \\\n",
       "293181                96.0                121.9          Female   \n",
       "293189               177.8                187.2          Female   \n",
       "293197               164.0                175.6          Female   \n",
       "\n",
       "       Stratification2 Stratification3  \n",
       "293181                                  \n",
       "293189                                  \n",
       "293197                                  "
      ]
     },
     "execution_count": 18,
     "metadata": {},
     "output_type": "execute_result"
    }
   ],
   "source": [
    "# female\n",
    "us_diseases_heart_female_arg = us_diseases_heart['Stratification1'] == 'Female'\n",
    "us_diseases_heart_female = us_diseases_heart[us_diseases_heart_female_arg]\n",
    "\n",
    "us_dis_heart_female_age_arg = us_diseases_heart_female['DataValueType'] == 'Age-adjusted Rate'\n",
    "us_dis_heart_female_age = us_diseases_heart_female[us_dis_heart_female_age_arg]\n",
    "\n",
    "us_dis_heart_female_year_arg = us_dis_heart_female_age['YearStart'] == 2014\n",
    "us_dis_heart_female_final = us_dis_heart_female_age[us_dis_heart_female_year_arg]\n",
    "us_dis_heart_female_final.head(3)"
   ]
  },
  {
   "cell_type": "code",
   "execution_count": 19,
   "metadata": {},
   "outputs": [
    {
     "data": {
      "text/plain": [
       "(204, 17)"
      ]
     },
     "execution_count": 19,
     "metadata": {},
     "output_type": "execute_result"
    }
   ],
   "source": [
    "us_dis_heart_female_final.shape"
   ]
  },
  {
   "cell_type": "markdown",
   "metadata": {},
   "source": [
    "So the data has 17 attributes, and 204 observations. 51 observations (All 50 states and Washington DC) for each heart disease stratification (4) = 204 total observations."
   ]
  },
  {
   "cell_type": "code",
   "execution_count": 21,
   "metadata": {},
   "outputs": [
    {
     "data": {
      "text/html": [
       "<div>\n",
       "<style scoped>\n",
       "    .dataframe tbody tr th:only-of-type {\n",
       "        vertical-align: middle;\n",
       "    }\n",
       "\n",
       "    .dataframe tbody tr th {\n",
       "        vertical-align: top;\n",
       "    }\n",
       "\n",
       "    .dataframe thead th {\n",
       "        text-align: right;\n",
       "    }\n",
       "</style>\n",
       "<table border=\"1\" class=\"dataframe\">\n",
       "  <thead>\n",
       "    <tr style=\"text-align: right;\">\n",
       "      <th></th>\n",
       "      <th>YearStart</th>\n",
       "      <th>YearEnd</th>\n",
       "      <th>LocationAbbr</th>\n",
       "      <th>LocationDesc</th>\n",
       "      <th>DataSource</th>\n",
       "      <th>Topic</th>\n",
       "      <th>Question</th>\n",
       "      <th>Response</th>\n",
       "      <th>DataValueUnit</th>\n",
       "      <th>DataValueType</th>\n",
       "      <th>DataValue</th>\n",
       "      <th>DataValueAlt</th>\n",
       "      <th>LowConfidenceLimit</th>\n",
       "      <th>HighConfidenceLimit</th>\n",
       "      <th>Stratification1</th>\n",
       "      <th>Stratification2</th>\n",
       "      <th>Stratification3</th>\n",
       "    </tr>\n",
       "  </thead>\n",
       "  <tbody>\n",
       "    <tr>\n",
       "      <th>293183</th>\n",
       "      <td>2014</td>\n",
       "      <td>2014</td>\n",
       "      <td>AK</td>\n",
       "      <td>Alaska</td>\n",
       "      <td>NVSS</td>\n",
       "      <td>Cardiovascular Disease</td>\n",
       "      <td>Mortality from diseases of the heart</td>\n",
       "      <td></td>\n",
       "      <td>cases per 100,000</td>\n",
       "      <td>Age-adjusted Rate</td>\n",
       "      <td>188.3</td>\n",
       "      <td>188.3</td>\n",
       "      <td>169.5</td>\n",
       "      <td>207.1</td>\n",
       "      <td>Male</td>\n",
       "      <td></td>\n",
       "      <td></td>\n",
       "    </tr>\n",
       "    <tr>\n",
       "      <th>293191</th>\n",
       "      <td>2014</td>\n",
       "      <td>2014</td>\n",
       "      <td>AL</td>\n",
       "      <td>Alabama</td>\n",
       "      <td>NVSS</td>\n",
       "      <td>Cardiovascular Disease</td>\n",
       "      <td>Mortality from diseases of the heart</td>\n",
       "      <td></td>\n",
       "      <td>cases per 100,000</td>\n",
       "      <td>Age-adjusted Rate</td>\n",
       "      <td>277.5</td>\n",
       "      <td>277.5</td>\n",
       "      <td>270.5</td>\n",
       "      <td>284.5</td>\n",
       "      <td>Male</td>\n",
       "      <td></td>\n",
       "      <td></td>\n",
       "    </tr>\n",
       "    <tr>\n",
       "      <th>293199</th>\n",
       "      <td>2014</td>\n",
       "      <td>2014</td>\n",
       "      <td>AR</td>\n",
       "      <td>Arkansas</td>\n",
       "      <td>NVSS</td>\n",
       "      <td>Cardiovascular Disease</td>\n",
       "      <td>Mortality from diseases of the heart</td>\n",
       "      <td></td>\n",
       "      <td>cases per 100,000</td>\n",
       "      <td>Age-adjusted Rate</td>\n",
       "      <td>274.0</td>\n",
       "      <td>274.0</td>\n",
       "      <td>265.4</td>\n",
       "      <td>282.5</td>\n",
       "      <td>Male</td>\n",
       "      <td></td>\n",
       "      <td></td>\n",
       "    </tr>\n",
       "  </tbody>\n",
       "</table>\n",
       "</div>"
      ],
      "text/plain": [
       "        YearStart  YearEnd LocationAbbr LocationDesc DataSource  \\\n",
       "293183       2014     2014           AK       Alaska       NVSS   \n",
       "293191       2014     2014           AL      Alabama       NVSS   \n",
       "293199       2014     2014           AR     Arkansas       NVSS   \n",
       "\n",
       "                         Topic                              Question Response  \\\n",
       "293183  Cardiovascular Disease  Mortality from diseases of the heart            \n",
       "293191  Cardiovascular Disease  Mortality from diseases of the heart            \n",
       "293199  Cardiovascular Disease  Mortality from diseases of the heart            \n",
       "\n",
       "            DataValueUnit      DataValueType DataValue  DataValueAlt  \\\n",
       "293183  cases per 100,000  Age-adjusted Rate     188.3         188.3   \n",
       "293191  cases per 100,000  Age-adjusted Rate     277.5         277.5   \n",
       "293199  cases per 100,000  Age-adjusted Rate     274.0         274.0   \n",
       "\n",
       "        LowConfidenceLimit  HighConfidenceLimit Stratification1  \\\n",
       "293183               169.5                207.1            Male   \n",
       "293191               270.5                284.5            Male   \n",
       "293199               265.4                282.5            Male   \n",
       "\n",
       "       Stratification2 Stratification3  \n",
       "293183                                  \n",
       "293191                                  \n",
       "293199                                  "
      ]
     },
     "execution_count": 21,
     "metadata": {},
     "output_type": "execute_result"
    }
   ],
   "source": [
    "# male\n",
    "us_diseases_heart_male_arg = us_diseases_heart['Stratification1'] == 'Male'\n",
    "us_diseases_heart_male = us_diseases_heart[us_diseases_heart_male_arg]\n",
    "\n",
    "us_dis_heart_male_age_arg = us_diseases_heart_male['DataValueType'] == 'Age-adjusted Rate'\n",
    "us_dis_heart_male_age = us_diseases_heart_male[us_dis_heart_male_age_arg]\n",
    "\n",
    "us_dis_heart_male_year_arg = us_dis_heart_male_age['YearStart'] == 2014\n",
    "us_dis_heart_male_final = us_dis_heart_male_age[us_dis_heart_male_year_arg]\n",
    "us_dis_heart_male_final.head(3)"
   ]
  },
  {
   "cell_type": "markdown",
   "metadata": {},
   "source": [
    "Now we can concatenate both male and female DataFrames by rows to obtain a master DataFrame to be saved as a csv file, then imported into Tableau: "
   ]
  },
  {
   "cell_type": "code",
   "execution_count": 23,
   "metadata": {
    "collapsed": true
   },
   "outputs": [],
   "source": [
    "us_diseases_final = pd.concat([us_dis_heart_male_final, us_dis_heart_female_final])"
   ]
  },
  {
   "cell_type": "code",
   "execution_count": null,
   "metadata": {
    "collapsed": true
   },
   "outputs": [],
   "source": [
    "us_diseases_final.to_csv('us_master_HD.csv', sep = ',')"
   ]
  }
 ],
 "metadata": {
  "kernelspec": {
   "display_name": "Python 3",
   "language": "python",
   "name": "python3"
  },
  "language_info": {
   "codemirror_mode": {
    "name": "ipython",
    "version": 3
   },
   "file_extension": ".py",
   "mimetype": "text/x-python",
   "name": "python",
   "nbconvert_exporter": "python",
   "pygments_lexer": "ipython3",
   "version": "3.6.3"
  }
 },
 "nbformat": 4,
 "nbformat_minor": 2
}
